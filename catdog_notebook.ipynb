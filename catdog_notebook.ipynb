{
 "cells": [
  {
   "cell_type": "markdown",
   "metadata": {
    "colab_type": "text",
    "id": "ZHfaJ64urL4j"
   },
   "source": [
    "# Cat vs Dog Image Classifier Using Pretrained and Non-pretrained ResNet18 with PyTorch\n",
    "### Author: Max Bluestone\n",
    "### Date: 5/28/19\n",
    "\n",
    "*This notebook was running on Google Colab to take advantage of the GPU*"
   ]
  },
  {
   "cell_type": "markdown",
   "metadata": {
    "colab_type": "text",
    "id": "efQQ9ECDrL4o"
   },
   "source": [
    "## Train the convolutional neural network model"
   ]
  },
  {
   "cell_type": "markdown",
   "metadata": {
    "colab_type": "text",
    "id": "fPTcerX-rL4w"
   },
   "source": [
    "### Data Loading and Transformation"
   ]
  },
  {
   "cell_type": "code",
   "execution_count": null,
   "metadata": {
    "colab": {},
    "colab_type": "code",
    "id": "ilP4Uq9srL4p"
   },
   "outputs": [],
   "source": [
    "from __future__ import print_function, division\n",
    "\n",
    "import torch\n",
    "import torch.nn as nn\n",
    "import torch.nn.functional as F\n",
    "import torch.optim as optim\n",
    "from torch.optim import lr_scheduler\n",
    "import numpy as np\n",
    "import torchvision\n",
    "from torchvision import datasets, models, transforms\n",
    "import matplotlib.pyplot as plt\n",
    "import time\n",
    "import os\n",
    "import copy\n",
    "\n",
    "plt.ion()   # interactive mode"
   ]
  },
  {
   "cell_type": "code",
   "execution_count": null,
   "metadata": {
    "colab": {},
    "colab_type": "code",
    "id": "IM1cSe5vrL4z"
   },
   "outputs": [],
   "source": [
    "# Data augmentation and normalization for training\n",
    "# Just normalization for validation\n",
    "data_transforms = {\n",
    "    'train': transforms.Compose([\n",
    "        transforms.RandomResizedCrop(224),\n",
    "        transforms.RandomHorizontalFlip(),\n",
    "        transforms.ToTensor(),\n",
    "        transforms.Normalize([0.485, 0.456, 0.406], [0.229, 0.224, 0.225])\n",
    "    ]),\n",
    "    'val': transforms.Compose([\n",
    "        transforms.Resize(256),\n",
    "        transforms.CenterCrop(224),\n",
    "        transforms.ToTensor(),\n",
    "        transforms.Normalize([0.485, 0.456, 0.406], [0.229, 0.224, 0.225])\n",
    "    ]),\n",
    "}"
   ]
  },
  {
   "cell_type": "code",
   "execution_count": null,
   "metadata": {
    "colab": {},
    "colab_type": "code",
    "id": "musKHwEWrL42"
   },
   "outputs": [],
   "source": [
    "# unzip img folder after uploading to google colab\n",
    "!unzip img.zip\n",
    "\n",
    "# load the data\n",
    "data_dir = 'img'\n",
    "image_datasets = {x: datasets.ImageFolder(os.path.join(data_dir, x),\n",
    "                                          data_transforms[x])\n",
    "                  for x in ['train', 'val']}"
   ]
  },
  {
   "cell_type": "code",
   "execution_count": null,
   "metadata": {
    "colab": {},
    "colab_type": "code",
    "id": "9CzbHqDOrL48"
   },
   "outputs": [],
   "source": [
    "# intialize data loaders\n",
    "dataloaders = {x: torch.utils.data.DataLoader(image_datasets[x], batch_size=4,\n",
    "                                             shuffle=True, num_workers=4)\n",
    "              for x in ['train', 'val']}\n",
    "dataset_sizes = {x: len(image_datasets[x]) for x in ['train', 'val']}\n",
    "class_names = image_datasets['train'].classes\n",
    "\n",
    "# use gpu if available\n",
    "device = torch.device(\"cuda:0\" if torch.cuda.is_available() else \"cpu\")"
   ]
  },
  {
   "cell_type": "markdown",
   "metadata": {
    "colab_type": "text",
    "id": "DSqkHYCxrL5E"
   },
   "source": [
    "### Train Resnet18 from scratch"
   ]
  },
  {
   "cell_type": "code",
   "execution_count": null,
   "metadata": {
    "colab": {},
    "colab_type": "code",
    "id": "dj3nbdoCrL5G"
   },
   "outputs": [],
   "source": [
    "# initialize resnet model (not pretrained)\n",
    "model = models.resnet18(pretrained=False)\n",
    "\n",
    "# change output to 2, binary class problem\n",
    "model.fc = nn.Linear(model.fc.in_features, 2)\n",
    "\n",
    "# run model on gpu if available\n",
    "model = model.to(device)\n",
    "\n",
    "# define loss function\n",
    "loss_fn = nn.CrossEntropyLoss()\n",
    "\n",
    "# define optimizer\n",
    "optimizer = optim.Adam(model.parameters())"
   ]
  },
  {
   "cell_type": "markdown",
   "metadata": {
    "colab_type": "text",
    "id": "BNo9Mx82Pek5"
   },
   "source": [
    "*Training function*"
   ]
  },
  {
   "cell_type": "code",
   "execution_count": null,
   "metadata": {
    "colab": {},
    "colab_type": "code",
    "id": "rAhqNUKirL5O"
   },
   "outputs": [],
   "source": [
    "# define function for training the model\n",
    "def train_model(model, loss_fn, optimizer, scheduler, num_epochs=50, verbose=True):\n",
    "    \"\"\"\n",
    "    Function to train a neural network model on the cat-dog images\n",
    "    \"\"\"\n",
    "    since = time.time()\n",
    "\n",
    "    best_model_wts = copy.deepcopy(model.state_dict())\n",
    "    best_acc = 0.0\n",
    "    \n",
    "    train_losses = []\n",
    "    val_losses = []\n",
    "\n",
    "    for epoch in range(num_epochs):\n",
    "        if (epoch+1) % 10 == 0 and verbose:\n",
    "          print('Epoch {}/{}'.format(epoch+1, num_epochs))\n",
    "          print('-' * 10)\n",
    "\n",
    "        # Each epoch has a training and validation phase\n",
    "        for phase in ['train', 'val']:\n",
    "            if phase == 'train':\n",
    "                scheduler.step()\n",
    "                model.train()  # Set model to training mode\n",
    "            else:\n",
    "                model.eval()   # Set model to evaluate mode\n",
    "\n",
    "            running_loss = 0.0\n",
    "            running_corrects = 0\n",
    "\n",
    "            # Iterate over data\n",
    "            for inputs, labels in dataloaders[phase]:\n",
    "                inputs = inputs.to(device)\n",
    "                labels = labels.to(device)\n",
    "\n",
    "                # zero the parameter gradients\n",
    "                optimizer.zero_grad()\n",
    "\n",
    "                # forward\n",
    "                # track history if only in train\n",
    "                with torch.set_grad_enabled(phase == 'train'):\n",
    "                    outputs = model(inputs)\n",
    "                    _, preds = torch.max(outputs, 1)\n",
    "                    loss = loss_fn(outputs, labels)\n",
    "\n",
    "                    # backward + optimize only if in training phase\n",
    "                    if phase == 'train':\n",
    "                        loss.backward()\n",
    "                        optimizer.step()\n",
    "\n",
    "                # statistics\n",
    "                running_loss += loss.item() * inputs.size(0)\n",
    "                running_corrects += torch.sum(preds == labels.data)\n",
    "\n",
    "            epoch_loss = running_loss / dataset_sizes[phase]\n",
    "            epoch_acc = running_corrects.double() / dataset_sizes[phase]\n",
    "            \n",
    "            #update loss arrays\n",
    "            if phase == 'train':\n",
    "                train_losses.append(epoch_loss)\n",
    "            elif phase == 'val':\n",
    "                val_losses.append(epoch_loss)\n",
    "\n",
    "            if (epoch+1) % 10 == 0 and verbose:\n",
    "                print('{} Loss: {:.4f} Acc: {:.4f}'.format(phase, epoch_loss, epoch_acc))\n",
    "                print()\n",
    "\n",
    "            # deep copy the model\n",
    "            if phase == 'val' and epoch_acc > best_acc:\n",
    "                best_acc = epoch_acc\n",
    "                best_model_wts = copy.deepcopy(model.state_dict())\n",
    "\n",
    "    if verbose:\n",
    "        time_elapsed = time.time() - since\n",
    "        print('Training complete in {:.0f}m {:.0f}s'.format(time_elapsed // 60, time_elapsed % 60))\n",
    "        print('Best val Acc: {:4f}'.format(best_acc))\n",
    "\n",
    "    # load best model weights\n",
    "    model.load_state_dict(best_model_wts)\n",
    "    return model, train_losses, val_losses, best_acc"
   ]
  },
  {
   "cell_type": "markdown",
   "metadata": {
    "colab_type": "text",
    "id": "RrtbRpG96Urw"
   },
   "source": [
    "*Train model with default hyperparameters*"
   ]
  },
  {
   "cell_type": "code",
   "execution_count": null,
   "metadata": {
    "colab": {
     "base_uri": "https://localhost:8080/",
     "height": 828
    },
    "colab_type": "code",
    "executionInfo": {
     "elapsed": 232791,
     "status": "ok",
     "timestamp": 1559070044462,
     "user": {
      "displayName": "Max Bluestone",
      "photoUrl": "https://lh3.googleusercontent.com/-4ljt_Y02jwA/AAAAAAAAAAI/AAAAAAAAJTo/hAT7ycMO1-s/s64/photo.jpg",
      "userId": "12402400144140536033"
     },
     "user_tz": 240
    },
    "id": "NCR963rnrL5R",
    "outputId": "bbe29ca5-5911-4002-ffeb-0c5b3493689b"
   },
   "outputs": [
    {
     "name": "stdout",
     "output_type": "stream",
     "text": [
      "Epoch 10/50\n",
      "----------\n",
      "train Loss: 0.7037 Acc: 0.5360\n",
      "\n",
      "val Loss: 0.7011 Acc: 0.6500\n",
      "\n",
      "Epoch 20/50\n",
      "----------\n",
      "train Loss: 0.6663 Acc: 0.5920\n",
      "\n",
      "val Loss: 0.6811 Acc: 0.5500\n",
      "\n",
      "Epoch 30/50\n",
      "----------\n",
      "train Loss: 0.6730 Acc: 0.5920\n",
      "\n",
      "val Loss: 0.6732 Acc: 0.5900\n",
      "\n",
      "Epoch 40/50\n",
      "----------\n",
      "train Loss: 0.6745 Acc: 0.5700\n",
      "\n",
      "val Loss: 0.6825 Acc: 0.6000\n",
      "\n",
      "Epoch 50/50\n",
      "----------\n",
      "train Loss: 0.6477 Acc: 0.6240\n",
      "\n",
      "val Loss: 0.6960 Acc: 0.6000\n",
      "\n",
      "Training complete in 3m 52s\n",
      "Best val Acc: 0.660000\n"
     ]
    },
    {
     "data": {
      "image/png": "[encoded data removed]",
      "text/plain": [
       "<Figure size 432x288 with 1 Axes>"
      ]
     },
     "metadata": {
      "tags": []
     },
     "output_type": "display_data"
    }
   ],
   "source": [
    "# don't decay learning rate for now\n",
    "exp_lr_scheduler = lr_scheduler.StepLR(optimizer, step_size=7, gamma=1)\n",
    "\n",
    "# train model, only return losses for plotting\n",
    "_, t_loss, v_loss,_ = train_model(model, loss_fn, optimizer, exp_lr_scheduler)\n",
    "\n",
    "# plot losses\n",
    "plt.plot(range(num_epochs),t_loss, '-b', label='Train Loss')\n",
    "plt.plot(range(num_epochs),v_loss, '-g', label='Validation Loss')\n",
    "plt.legend(loc='upper right')\n",
    "plt.xlabel('Epoch')\n",
    "plt.show()"
   ]
  },
  {
   "cell_type": "markdown",
   "metadata": {
    "colab_type": "text",
    "id": "IP_bZhZR2MJj"
   },
   "source": [
    "*Hyperparameter Tuning*"
   ]
  },
  {
   "cell_type": "code",
   "execution_count": null,
   "metadata": {
    "colab": {
     "base_uri": "https://localhost:8080/",
     "height": 119
    },
    "colab_type": "code",
    "executionInfo": {
     "elapsed": 326,
     "status": "ok",
     "timestamp": 1559100424183,
     "user": {
      "displayName": "Max Bluestone",
      "photoUrl": "https://lh3.googleusercontent.com/-4ljt_Y02jwA/AAAAAAAAAAI/AAAAAAAAJTo/hAT7ycMO1-s/s64/photo.jpg",
      "userId": "12402400144140536033"
     },
     "user_tz": 240
    },
    "id": "D4NKEe5uudgp",
    "outputId": "150dab63-fb9a-4f5c-d938-f17989640337"
   },
   "outputs": [
    {
     "name": "stdout",
     "output_type": "stream",
     "text": [
      "Best Score: 0.71\n",
      "\n",
      "Batch Size:  4 \n",
      "Learning Rate:  0.001 \n",
      "Learning Decay:  1 \n",
      "Weight Decay:  1e-06\n"
     ]
    }
   ],
   "source": [
    "import itertools\n",
    "\n",
    "# Hyperparameters to tune\n",
    "batch_sizes = [4,10,20]\n",
    "learning_rate = [0.1,0.01,0.001]\n",
    "learning_decay = [1,0.5,0.1]\n",
    "weight_decay = [0,1e-7,1e-6]\n",
    "\n",
    "# number of training epochs, only 30 for tuning\n",
    "num_epochs = 30\n",
    "\n",
    "# initialize scores and parameters lists\n",
    "scores = []\n",
    "params = []\n",
    "\n",
    "# loop through tuning iterations\n",
    "for bs, lr, ld, wd in itertools.product(batch_sizes, learning_rate, learning_decay, weight_decay):\n",
    "  \n",
    "    \n",
    "    # record hyperparameter values\n",
    "    params.append([bs, lr, ld, wd])\n",
    "    \n",
    "    # reload data with different batch size\n",
    "    dataloaders = {x: torch.utils.data.DataLoader(image_datasets[x], batch_size=bs,\n",
    "                                                 shuffle=True, num_workers=4)\n",
    "                  for x in ['train', 'val']}\n",
    "    dataset_sizes = {x: len(image_datasets[x]) for x in ['train', 'val']}\n",
    "    class_names = image_datasets['train'].classes\n",
    "    \n",
    "    # initialize new resnet model (not pretrained)\n",
    "    tune_model = models.resnet18(pretrained=False)\n",
    "\n",
    "    # change output to 2, binary class problem\n",
    "    tune_model.fc = nn.Linear(model.fc.in_features, 2)\n",
    "\n",
    "    # run model on gpu if available\n",
    "    tune_model = tune_model.to(device)\n",
    "    \n",
    "    # define optimizer\n",
    "    optimizer = torch.optim.Adam(tune_model.parameters(), lr=lr, weight_decay=wd)\n",
    "    \n",
    "    # Decay LR by some factor every 7 epochs\n",
    "    exp_lr_scheduler = lr_scheduler.StepLR(optimizer, step_size=7, gamma=ld)\n",
    "    \n",
    "    # train, only return best accuracy\n",
    "    _, _, _, acc = train_model(tune_model, loss_fn, optimizer, exp_lr_scheduler, num_epochs=num_epochs, verbose=False)\n",
    "    \n",
    "    # record f1 score\n",
    "    scores.append(acc)\n",
    "\n",
    "# print best accuracy and the parameters of the model that achieved it\n",
    "print(\"Best Score: {}\".format(max(scores)))\n",
    "print(\"\\nBatch Size: \",params[scores.index(max(scores))][0],\n",
    "     \"\\nLearning Rate: \",params[scores.index(max(scores))][1],\n",
    "     \"\\nLearning Decay: \",params[scores.index(max(scores))][2],\n",
    "     \"\\nWeight Decay: \",params[scores.index(max(scores))][3])"
   ]
  },
  {
   "cell_type": "markdown",
   "metadata": {
    "colab_type": "text",
    "id": "EI8wMH0P0qdV"
   },
   "source": [
    "It makes sense that a scheduled learning decay wouldn't matter because Adam has it's own adaptive learning rate."
   ]
  },
  {
   "cell_type": "code",
   "execution_count": null,
   "metadata": {
    "colab": {},
    "colab_type": "code",
    "id": "zc6anT2Vk59I"
   },
   "outputs": [],
   "source": [
    "# retrain model with tuned hyperparameters\n",
    "batch_size = 4\n",
    "learning_rate = 0.001\n",
    "learning_decay = 1\n",
    "weight_decay = 1e-6\n",
    "\n",
    "# reload data with different batch size\n",
    "dataloaders = {x: torch.utils.data.DataLoader(image_datasets[x], batch_size=batch_size,\n",
    "                                             shuffle=True, num_workers=4)\n",
    "              for x in ['train', 'val']}\n",
    "dataset_sizes = {x: len(image_datasets[x]) for x in ['train', 'val']}\n",
    "class_names = image_datasets['train'].classes\n",
    "\n",
    "# initialize new resnet model (not pretrained)\n",
    "tuned_model = models.resnet18(pretrained=False)\n",
    "\n",
    "# change output to 2, binary class problem\n",
    "tuned_model.fc = nn.Linear(tuned_model.fc.in_features, 2)\n",
    "\n",
    "# run model on gpu if available\n",
    "tuned_model = tuned_model.to(device)\n",
    "\n",
    "# define optimizer\n",
    "optimizer = torch.optim.Adam(tuned_model.parameters(), lr=learning_rate, weight_decay=weight_decay)\n",
    "\n",
    "# Decay LR by some factor every 7 epochs\n",
    "exp_lr_scheduler = lr_scheduler.StepLR(optimizer, step_size=7, gamma=learning_decay)\n",
    "\n",
    "# train, only return model\n",
    "tuned_model, _, _, _ = train_model(tuned_model, loss_fn, optimizer, exp_lr_scheduler, verbose=False)"
   ]
  },
  {
   "cell_type": "markdown",
   "metadata": {
    "colab_type": "text",
    "id": "xiIIMHQNUrNl"
   },
   "source": [
    "*Make predictions on validation set*"
   ]
  },
  {
   "cell_type": "code",
   "execution_count": null,
   "metadata": {
    "colab": {},
    "colab_type": "code",
    "id": "X17hDme-mSRh"
   },
   "outputs": [],
   "source": [
    "# evaluation mode\n",
    "was_training = tuned_model.training\n",
    "tuned_model.eval()\n",
    "\n",
    "# initialize label and prediction arrays\n",
    "all_lbls = np.array([])\n",
    "all_preds = np.array([])\n",
    "\n",
    "# don't update gradients\n",
    "with torch.no_grad():\n",
    "    # loop through image batches\n",
    "    for i, (inputs, labels) in enumerate(dataloaders['val']):\n",
    "        inputs = inputs.to(device)\n",
    "        labels = labels.to(device)\n",
    "\n",
    "        # make predicitions\n",
    "        outputs = tuned_model(inputs)\n",
    "        _, preds = torch.max(outputs, 1)\n",
    "        \n",
    "        # add batch labels and preds to full arrays\n",
    "        all_lbls = np.append(all_lbls,labels.cpu().numpy())\n",
    "        all_preds = np.append(all_preds,preds.cpu().numpy())\n",
    "\n",
    "    tuned_model.train(mode=was_training)"
   ]
  },
  {
   "cell_type": "code",
   "execution_count": null,
   "metadata": {
    "colab": {
     "base_uri": "https://localhost:8080/",
     "height": 204
    },
    "colab_type": "code",
    "executionInfo": {
     "elapsed": 1003,
     "status": "ok",
     "timestamp": 1559156050917,
     "user": {
      "displayName": "Max Bluestone",
      "photoUrl": "https://lh3.googleusercontent.com/-4ljt_Y02jwA/AAAAAAAAAAI/AAAAAAAAJTo/hAT7ycMO1-s/s64/photo.jpg",
      "userId": "12402400144140536033"
     },
     "user_tz": 240
    },
    "id": "rfwKZCl8PTxe",
    "outputId": "199cafcc-a889-4e80-8505-72087c01c715"
   },
   "outputs": [
    {
     "name": "stdout",
     "output_type": "stream",
     "text": [
      "\n",
      "Contigency Table:\n",
      " Ground Truth  cat  dog\n",
      "Predicted             \n",
      "cat            31   14\n",
      "dog            19   36 \n",
      "\n",
      "Accuracy: 0.6700 \n",
      "Precision: 0.6545 \n",
      "Recall: 0.7200 \n",
      "F1 Score: 0.6857\n"
     ]
    }
   ],
   "source": [
    "# create a function for calculating and outputing evaluation metrics for the validation set\n",
    "import pandas as pd\n",
    "from sklearn.metrics import confusion_matrix\n",
    "def metrics(ground_truth, predictions):\n",
    "    '''\n",
    "    Function to calculate and return evaluation metrics for classification\n",
    "    '''\n",
    "    # contingency table\n",
    "    ct_data = pd.DataFrame([ground_truth,predictions]).T\n",
    "    ct_data.columns=[\"Ground Truth\",\"Predicted\"]\n",
    "    ct_data[ct_data==0]=\"cat\"\n",
    "    ct_data[ct_data==1]=\"dog\"\n",
    "    ct = pd.crosstab(ct_data[\"Predicted\"],ct_data[\"Ground Truth\"],margins=False)\n",
    "    \n",
    "    # metrics\n",
    "    cm = confusion_matrix(ground_truth, predictions)\n",
    "    tn, fp, fn, tp = cm.ravel()\n",
    "    accuracy = (tp+tn)/(tn+fp+fn+tp)\n",
    "    precision = tp/(tp+fp)\n",
    "    recall = tp/(tp+fn)\n",
    "    f1_score = (2*precision*recall)/(precision+recall)\n",
    "    print(\"\\nContigency Table:\\n\",ct,\n",
    "          \"\\n\\nAccuracy: {:.4f}\".format(accuracy),\n",
    "          \"\\nPrecision: {:.4f}\".format(precision),\n",
    "          \"\\nRecall: {:.4f}\".format(recall),\n",
    "          \"\\nF1 Score: {:.4f}\".format(f1_score))\n",
    "\n",
    "# print out metrics\n",
    "metrics(all_lbls, all_preds)"
   ]
  },
  {
   "cell_type": "markdown",
   "metadata": {},
   "source": [
    "Not so great..."
   ]
  },
  {
   "cell_type": "markdown",
   "metadata": {
    "colab_type": "text",
    "id": "C_7_dN7BBxn8"
   },
   "source": [
    "### Transfer learning: pre-trained Resnet18 on ImageNet"
   ]
  },
  {
   "cell_type": "code",
   "execution_count": null,
   "metadata": {
    "colab": {},
    "colab_type": "code",
    "id": "WBcyfiQs-glh"
   },
   "outputs": [],
   "source": [
    "# initialize resnet model (pretrained)\n",
    "pt_model = models.resnet18(pretrained=True)\n",
    "for param in pt_model.parameters():\n",
    "    param.requires_grad = False\n",
    "\n",
    "# change output to 2, binary class problem\n",
    "pt_model.fc = nn.Linear(pt_model.fc.in_features, 2)\n",
    "\n",
    "# run model on gpu if available\n",
    "pt_model = pt_model.to(device)\n",
    "\n",
    "# define loss function\n",
    "loss_fn = nn.CrossEntropyLoss()\n",
    "\n",
    "# define optimizer, only for last layer\n",
    "optimizer = optim.Adam(pt_model.fc.parameters())"
   ]
  },
  {
   "cell_type": "markdown",
   "metadata": {
    "colab_type": "text",
    "id": "10kgx7eDmYOq"
   },
   "source": [
    "*Train model with default hyperparameters*"
   ]
  },
  {
   "cell_type": "code",
   "execution_count": null,
   "metadata": {
    "colab": {
     "base_uri": "https://localhost:8080/",
     "height": 521
    },
    "colab_type": "code",
    "executionInfo": {
     "elapsed": 89363,
     "status": "ok",
     "timestamp": 1559150363290,
     "user": {
      "displayName": "Max Bluestone",
      "photoUrl": "https://lh3.googleusercontent.com/-4ljt_Y02jwA/AAAAAAAAAAI/AAAAAAAAJTo/hAT7ycMO1-s/s64/photo.jpg",
      "userId": "12402400144140536033"
     },
     "user_tz": 240
    },
    "id": "hjXpK6jOkmlG",
    "outputId": "0344569e-0fc0-436e-967b-9b6a1e01d008"
   },
   "outputs": [
    {
     "name": "stdout",
     "output_type": "stream",
     "text": [
      "Epoch 10/20\n",
      "----------\n",
      "train Loss: 0.3906 Acc: 0.8400\n",
      "\n",
      "val Loss: 0.0599 Acc: 0.9700\n",
      "\n",
      "Epoch 20/20\n",
      "----------\n",
      "train Loss: 0.3778 Acc: 0.8200\n",
      "\n",
      "val Loss: 0.0566 Acc: 0.9800\n",
      "\n",
      "Training complete in 1m 28s\n",
      "Best val Acc: 0.990000\n"
     ]
    },
    {
     "data": {
      "image/png": "[encoded data removed]",
      "text/plain": [
       "<Figure size 432x288 with 1 Axes>"
      ]
     },
     "metadata": {
      "tags": []
     },
     "output_type": "display_data"
    }
   ],
   "source": [
    "# don't decay learning rate for now\n",
    "exp_lr_scheduler = lr_scheduler.StepLR(optimizer, step_size=7, gamma=1)\n",
    "\n",
    "# train model, only return losses for plotting\n",
    "num_epochs=20\n",
    "_, t_loss, v_loss,_ = train_model(pt_model, loss_fn, optimizer, exp_lr_scheduler, num_epochs=num_epochs)\n",
    "\n",
    "# plot losses\n",
    "plt.plot(range(num_epochs),t_loss, '-b', label='Train Loss')\n",
    "plt.plot(range(num_epochs),v_loss, '-g', label='Validation Loss')\n",
    "plt.legend(loc='upper right')\n",
    "plt.xlabel('Epoch')\n",
    "plt.show()"
   ]
  },
  {
   "cell_type": "markdown",
   "metadata": {
    "colab_type": "text",
    "id": "8Rv9ZeKbnk-t"
   },
   "source": [
    "*Hyperparameter Tuning*"
   ]
  },
  {
   "cell_type": "code",
   "execution_count": null,
   "metadata": {
    "colab": {
     "base_uri": "https://localhost:8080/",
     "height": 119
    },
    "colab_type": "code",
    "executionInfo": {
     "elapsed": 4498738,
     "status": "ok",
     "timestamp": 1559155533528,
     "user": {
      "displayName": "Max Bluestone",
      "photoUrl": "https://lh3.googleusercontent.com/-4ljt_Y02jwA/AAAAAAAAAAI/AAAAAAAAJTo/hAT7ycMO1-s/s64/photo.jpg",
      "userId": "12402400144140536033"
     },
     "user_tz": 240
    },
    "id": "wgVTNbk4nn7R",
    "outputId": "8a4ae0cf-2720-40de-a058-167305fd3e69"
   },
   "outputs": [
    {
     "name": "stdout",
     "output_type": "stream",
     "text": [
      "Best Score: 1.0\n",
      "\n",
      "Batch Size:  4 \n",
      "Learning Rate:  0.01 \n",
      "Learning Decay:  1 \n",
      "Weight Decay:  1e-06\n"
     ]
    }
   ],
   "source": [
    "# Hyperparameters to tune\n",
    "batch_sizes = [4,10]\n",
    "learning_rate = [0.1,0.01,0.001]\n",
    "learning_decay = [1,0.5,0.1]\n",
    "weight_decay = [0,1e-7,1e-6]\n",
    "\n",
    "# number of training epochs, only 30 for tuning\n",
    "num_epochs = 20\n",
    "\n",
    "# initialize scores and parameters lists\n",
    "scores = []\n",
    "params = []\n",
    "\n",
    "# loop through tuning iterations\n",
    "for bs, lr, ld, wd in itertools.product(batch_sizes, learning_rate, learning_decay, weight_decay):\n",
    "    \n",
    "    # record hyperparameter values\n",
    "    params.append([bs, lr, ld, wd])\n",
    "    \n",
    "    # reload data with different batch size\n",
    "    dataloaders = {x: torch.utils.data.DataLoader(image_datasets[x], batch_size=bs,\n",
    "                                                 shuffle=True, num_workers=4)\n",
    "                  for x in ['train', 'val']}\n",
    "    dataset_sizes = {x: len(image_datasets[x]) for x in ['train', 'val']}\n",
    "    class_names = image_datasets['train'].classes\n",
    "    \n",
    "    # initialize resnet model (pretrained)\n",
    "    tune_pt_model = models.resnet18(pretrained=True)\n",
    "    for param in tune_pt_model.parameters():\n",
    "        param.requires_grad = False\n",
    "\n",
    "    # change output to 2, binary class problem\n",
    "    tune_pt_model.fc = nn.Linear(tune_pt_model.fc.in_features, 2)\n",
    "\n",
    "    # run model on gpu if available\n",
    "    tune_pt_model = tune_pt_model.to(device)\n",
    "\n",
    "    # define loss function\n",
    "    loss_fn = nn.CrossEntropyLoss()\n",
    "\n",
    "    # define optimizer, only for last layer\n",
    "    optimizer = optim.Adam(tune_pt_model.fc.parameters(), lr=lr, weight_decay=wd)\n",
    "    \n",
    "    # Decay LR by some factor every 7 epochs\n",
    "    exp_lr_scheduler = lr_scheduler.StepLR(optimizer, step_size=7, gamma=ld)\n",
    "    \n",
    "    # train, only return best accuracy\n",
    "    _, _, _, acc = train_model(tune_pt_model, loss_fn, optimizer, exp_lr_scheduler, num_epochs=num_epochs, verbose=False)\n",
    "    \n",
    "    # record f1 score\n",
    "    scores.append(acc)\n",
    "\n",
    "# print best accuracy and the parameters of the model that achieved it\n",
    "print(\"Best Score: {}\".format(max(scores)))\n",
    "print(\"\\nBatch Size: \",params[scores.index(max(scores))][0],\n",
    "     \"\\nLearning Rate: \",params[scores.index(max(scores))][1],\n",
    "     \"\\nLearning Decay: \",params[scores.index(max(scores))][2],\n",
    "     \"\\nWeight Decay: \",params[scores.index(max(scores))][3])"
   ]
  },
  {
   "cell_type": "markdown",
   "metadata": {
    "colab_type": "text",
    "id": "AzUTtsccpAnq"
   },
   "source": [
    "*Retrain Model with Tuned Hyperparameters and Evaluate on Validation Set*"
   ]
  },
  {
   "cell_type": "code",
   "execution_count": null,
   "metadata": {
    "colab": {
     "base_uri": "https://localhost:8080/",
     "height": 204
    },
    "colab_type": "code",
    "executionInfo": {
     "elapsed": 91274,
     "status": "ok",
     "timestamp": 1559155694004,
     "user": {
      "displayName": "Max Bluestone",
      "photoUrl": "https://lh3.googleusercontent.com/-4ljt_Y02jwA/AAAAAAAAAAI/AAAAAAAAJTo/hAT7ycMO1-s/s64/photo.jpg",
      "userId": "12402400144140536033"
     },
     "user_tz": 240
    },
    "id": "gIx86KnEo_de",
    "outputId": "7e9189e9-99a6-4670-c9cd-c701724df6af"
   },
   "outputs": [
    {
     "name": "stdout",
     "output_type": "stream",
     "text": [
      "\n",
      "Contigency Table:\n",
      " Ground Truth  cat  dog\n",
      "Predicted             \n",
      "cat            48    0\n",
      "dog             2   50 \n",
      "\n",
      "Accuracy: 0.9800 \n",
      "Precision: 0.9615 \n",
      "Recall: 1.0000 \n",
      "F1 Score: 0.9804\n"
     ]
    }
   ],
   "source": [
    "# retrain model with tuned hyperparameters\n",
    "batch_size = 4\n",
    "learning_rate = 0.01\n",
    "learning_decay = 1\n",
    "weight_decay = 1e-6\n",
    "\n",
    "# reload data with different batch size\n",
    "dataloaders = {x: torch.utils.data.DataLoader(image_datasets[x], batch_size=batch_size,\n",
    "                                             shuffle=True, num_workers=4)\n",
    "              for x in ['train', 'val']}\n",
    "dataset_sizes = {x: len(image_datasets[x]) for x in ['train', 'val']}\n",
    "class_names = image_datasets['train'].classes\n",
    "\n",
    "# initialize resnet model (pretrained)\n",
    "tuned_pt_model = models.resnet18(pretrained=True)\n",
    "for param in tuned_pt_model.parameters():\n",
    "    param.requires_grad = False\n",
    "\n",
    "# change output to 2, binary class problem\n",
    "tuned_pt_model.fc = nn.Linear(tuned_pt_model.fc.in_features, 2)\n",
    "\n",
    "# run model on gpu if available\n",
    "tuned_pt_model = tuned_pt_model.to(device)\n",
    "\n",
    "# define loss function\n",
    "loss_fn = nn.CrossEntropyLoss()\n",
    "\n",
    "# define optimizer, only for last layer\n",
    "optimizer = optim.Adam(tuned_pt_model.fc.parameters(), lr=lr, weight_decay=wd)\n",
    "\n",
    "# Decay LR by some factor every 7 epochs\n",
    "exp_lr_scheduler = lr_scheduler.StepLR(optimizer, step_size=7, gamma=learning_decay)\n",
    "\n",
    "# train, only return model\n",
    "tuned_pt_model, _, _, _ = train_model(tuned_pt_model, loss_fn, optimizer, exp_lr_scheduler, num_epochs=20, verbose=False)\n",
    "\n",
    "# evaluation mode\n",
    "was_training = tuned_pt_model.training\n",
    "tuned_pt_model.eval()\n",
    "\n",
    "# initialize label and prediction arrays\n",
    "all_lbls = np.array([])\n",
    "all_preds = np.array([])\n",
    "\n",
    "# don't update gradients\n",
    "with torch.no_grad():\n",
    "    # loop through image batches\n",
    "    for i, (inputs, labels) in enumerate(dataloaders['val']):\n",
    "        inputs = inputs.to(device)\n",
    "        labels = labels.to(device)\n",
    "\n",
    "        # make predicitions\n",
    "        outputs = tuned_pt_model(inputs)\n",
    "        _, preds = torch.max(outputs, 1)\n",
    "        \n",
    "        # add batch labels and preds to full arrays\n",
    "        all_lbls = np.append(all_lbls,labels.cpu().numpy())\n",
    "        all_preds = np.append(all_preds,preds.cpu().numpy())\n",
    "\n",
    "    tuned_pt_model.train(mode=was_training)\n",
    "    \n",
    "# print out metrics\n",
    "metrics(all_lbls, all_preds)"
   ]
  },
  {
   "cell_type": "markdown",
   "metadata": {
    "colab_type": "text",
    "id": "BMxpokFrk2gL"
   },
   "source": [
    "The training on the pre-trained model is different from the non pre-trained model in that training the pre-trained model for our classification problem only updates the parameters of the final fully connected layer of the neural network to give us our binary output of 'cat' or 'dog'. Training the non pre-trained model, on the other hand, updates the weights for every layer of the neural network during training. Because the pre-trained model has been exhaustively trained on tons of images, it performs much better at our simple 'cat' vs 'dog' classification task."
   ]
  },
  {
   "cell_type": "code",
   "execution_count": null,
   "metadata": {
    "colab": {},
    "colab_type": "code",
    "id": "T7XCjAde8qnz"
   },
   "outputs": [],
   "source": []
  }
 ],
 "metadata": {
  "accelerator": "GPU",
  "colab": {
   "collapsed_sections": [],
   "name": "F003KDC_notebook.ipynb",
   "provenance": [],
   "version": "0.3.2"
  },
  "kernelspec": {
   "display_name": "Python 3",
   "language": "python",
   "name": "python3"
  },
  "language_info": {
   "codemirror_mode": {
    "name": "ipython",
    "version": 3
   },
   "file_extension": ".py",
   "mimetype": "text/x-python",
   "name": "python",
   "nbconvert_exporter": "python",
   "pygments_lexer": "ipython3",
   "version": "3.7.0"
  }
 },
 "nbformat": 4,
 "nbformat_minor": 2
}
